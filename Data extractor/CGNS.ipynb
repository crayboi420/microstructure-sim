{
 "cells": [
  {
   "cell_type": "code",
   "execution_count": null,
   "metadata": {},
   "outputs": [],
   "source": [
    "import numpy as np\n",
    "import cgns"
   ]
  },
  {
   "cell_type": "code",
   "execution_count": null,
   "metadata": {},
   "outputs": [],
   "source": [
    "\n",
    "def read_cgns_file(file_path):\n",
    "    with cgns.Cgns(file_path) as f:\n",
    "        base = f.read_base(1)\n",
    "        zone = f.read_zone(1, 1)\n",
    "        coords = f.read_coordinates(1, 1)\n",
    "        flow_solution = f.read_flow_solution(1, 1)\n",
    "        \n",
    "        num_points = zone['size'][0]\n",
    "        data_arrays = {}\n",
    "        \n",
    "        for coord in coords:\n",
    "            data_arrays[coord['name']] = np.array(coord['data'])\n",
    "        \n",
    "        for sol in flow_solution:\n",
    "            data_arrays[sol['name']] = np.array(sol['data'])\n",
    "    \n",
    "    return data_arrays\n"
   ]
  },
  {
   "cell_type": "code",
   "execution_count": null,
   "metadata": {},
   "outputs": [],
   "source": [
    "\n",
    "file_path = 'path/to/your/cgns/file.cgns'\n",
    "data_arrays = read_cgns_file(file_path)\n",
    "\n",
    "print(data_arrays)"
   ]
  }
 ],
 "metadata": {
  "language_info": {
   "name": "python"
  },
  "orig_nbformat": 4
 },
 "nbformat": 4,
 "nbformat_minor": 2
}
