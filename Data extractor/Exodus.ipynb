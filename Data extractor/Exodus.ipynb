{
 "cells": [
  {
   "cell_type": "code",
   "execution_count": 120,
   "metadata": {},
   "outputs": [],
   "source": [
    "import meshio\n",
    "import numpy as np\n",
    "import pickle\n",
    "import os"
   ]
  },
  {
   "cell_type": "code",
   "execution_count": 123,
   "metadata": {},
   "outputs": [],
   "source": [
    "filenames = [ _ for _ in os.listdir('./Output Data/') if _.endswith('.e')]"
   ]
  },
  {
   "cell_type": "code",
   "execution_count": 134,
   "metadata": {},
   "outputs": [],
   "source": [
    "# Take out the timestep from the filename\n",
    "timesteps = np.array([ float(_.split('_')[-1][:-2]) for _ in filenames])"
   ]
  },
  {
   "cell_type": "code",
   "execution_count": 137,
   "metadata": {},
   "outputs": [],
   "source": [
    "# Read mesh data\n",
    "\n",
    "mesh = meshio.read('./Output Data/'+filenames[0])\n",
    "\n",
    "points = mesh.points\n",
    "x = np.unique(points[:,0])\n",
    "y = np.unique(points[:,1])\n",
    "z = np.unique(points[:,2])\n",
    "X,Y,Z = np.meshgrid(x,y,z)"
   ]
  },
  {
   "cell_type": "code",
   "execution_count": 170,
   "metadata": {},
   "outputs": [
    {
     "data": {
      "text/plain": [
       "(367041,)"
      ]
     },
     "execution_count": 170,
     "metadata": {},
     "output_type": "execute_result"
    }
   ],
   "source": [
    "mesh.point_data['Solidification Time'].shape"
   ]
  },
  {
   "cell_type": "code",
   "execution_count": 202,
   "metadata": {},
   "outputs": [
    {
     "data": {
      "text/plain": [
       "(367041, 3)"
      ]
     },
     "execution_count": 202,
     "metadata": {},
     "output_type": "execute_result"
    }
   ],
   "source": [
    "mesh.points.shape"
   ]
  },
  {
   "cell_type": "code",
   "execution_count": 195,
   "metadata": {},
   "outputs": [
    {
     "data": {
      "text/plain": [
       "array([[  1320,   1321,   1322, ...,   1325,   1326,   1327],\n",
       "       [  1321,   1328,   1329, ...,   1330,   1331,   1326],\n",
       "       [  1328,   1332,   1333, ...,   1334,   1335,   1331],\n",
       "       ...,\n",
       "       [361785, 361786, 361887, ..., 366937, 367038, 367037],\n",
       "       [361786, 361787, 361888, ..., 366938, 367039, 367038],\n",
       "       [361787, 361788, 361889, ..., 366939, 367040, 367039]])"
      ]
     },
     "execution_count": 195,
     "metadata": {},
     "output_type": "execute_result"
    }
   ],
   "source": [
    "mesh.cells[1].data"
   ]
  },
  {
   "cell_type": "code",
   "execution_count": 143,
   "metadata": {},
   "outputs": [
    {
     "name": "stdout",
     "output_type": "stream",
     "text": [
      "['Cell Type', 'Cell Volume Fraction', 'Component Number', 'Volume Fraction After AVRCK Adjustment', 'Fluid', 'Heat Flux By Laser', 'Melt Region', 'Solid Fraction', 'Temperature']\n"
     ]
    }
   ],
   "source": [
    "keys =list( mesh.cell_data.keys())\n",
    "print(keys)"
   ]
  },
  {
   "cell_type": "code",
   "execution_count": 147,
   "metadata": {},
   "outputs": [
    {
     "data": {
      "text/plain": [
       "(350000,)"
      ]
     },
     "execution_count": 147,
     "metadata": {},
     "output_type": "execute_result"
    }
   ],
   "source": [
    "mesh.cell_data[keys[0]][1].shape"
   ]
  },
  {
   "cell_type": "code",
   "execution_count": 141,
   "metadata": {},
   "outputs": [],
   "source": [
    "fn = np.zeros((len(filenames),len(x),len(y),len(z)))\n",
    "fs = np.zeros((len(filenames),len(x),len(y),len(z)))\n",
    "T = np.zeros((len(filenames),len(x),len(y),len(z)))"
   ]
  },
  {
   "cell_type": "code",
   "execution_count": null,
   "metadata": {},
   "outputs": [],
   "source": [
    "for i,filename in enumerate(filenames):\n",
    "    "
   ]
  },
  {
   "cell_type": "code",
   "execution_count": 51,
   "metadata": {},
   "outputs": [],
   "source": [
    "exodus_file = './MeshBlock1.e'\n",
    "mesh = meshio.read(exodus_file)\n",
    "\n",
    "# Access different components of the mesh\n",
    "points = mesh.points\n",
    "cells = mesh.cells\n",
    "cell_data = mesh.cell_data\n",
    "point_data = mesh.point_data\n",
    "field_data = mesh.field_data"
   ]
  },
  {
   "cell_type": "code",
   "execution_count": 63,
   "metadata": {},
   "outputs": [],
   "source": [
    "x = np.unique(points[:,0])\n",
    "y = np.unique(points[:,1])\n",
    "z = np.unique(points[:,2])"
   ]
  },
  {
   "cell_type": "code",
   "execution_count": 64,
   "metadata": {},
   "outputs": [],
   "source": [
    "X,Y,Z = np.meshgrid(x,y,z)"
   ]
  },
  {
   "cell_type": "code",
   "execution_count": 65,
   "metadata": {},
   "outputs": [
    {
     "data": {
      "text/plain": [
       "(51, 101, 71)"
      ]
     },
     "execution_count": 65,
     "metadata": {},
     "output_type": "execute_result"
    }
   ],
   "source": [
    "X.shape"
   ]
  },
  {
   "cell_type": "code",
   "execution_count": 54,
   "metadata": {},
   "outputs": [
    {
     "data": {
      "text/plain": [
       "(dict_keys(['Cell Type', 'Cell Volume Fraction', 'Component Number', 'Volume Fraction After AVRCK Adjustment', 'Fluid', 'Heat Flux By Laser', 'Melt Region', 'Solid Fraction', 'Temperature']),\n",
       " dict_keys([]))"
      ]
     },
     "execution_count": 54,
     "metadata": {},
     "output_type": "execute_result"
    }
   ],
   "source": [
    "cell_data.keys(),point_data.keys()"
   ]
  },
  {
   "cell_type": "code",
   "execution_count": 57,
   "metadata": {},
   "outputs": [
    {
     "data": {
      "text/plain": [
       "(350000,)"
      ]
     },
     "execution_count": 57,
     "metadata": {},
     "output_type": "execute_result"
    }
   ],
   "source": [
    "cell_data['Solid Fraction'][0].shape"
   ]
  }
 ],
 "metadata": {
  "kernelspec": {
   "display_name": "Python 3",
   "language": "python",
   "name": "python3"
  },
  "language_info": {
   "codemirror_mode": {
    "name": "ipython",
    "version": 3
   },
   "file_extension": ".py",
   "mimetype": "text/x-python",
   "name": "python",
   "nbconvert_exporter": "python",
   "pygments_lexer": "ipython3",
   "version": "3.10.9"
  },
  "orig_nbformat": 4
 },
 "nbformat": 4,
 "nbformat_minor": 2
}
