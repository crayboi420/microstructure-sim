{
 "cells": [
  {
   "cell_type": "code",
   "execution_count": 2,
   "metadata": {},
   "outputs": [],
   "source": [
    "import numpy as np\n",
    "import vtk\n",
    "from vtk.util.numpy_support import vtk_to_numpy"
   ]
  },
  {
   "cell_type": "code",
   "execution_count": 2,
   "metadata": {},
   "outputs": [],
   "source": [
    "\n",
    "def read_flow3d_output(file_path):\n",
    "    reader = vtk.vtkStructuredGridReader()\n",
    "    reader.SetFileName(file_path)\n",
    "    reader.Update()\n",
    "\n",
    "    structured_grid = reader.GetOutput()\n",
    "    points = structured_grid.GetPoints()\n",
    "    num_points = points.GetNumberOfPoints()\n",
    "\n",
    "    point_data = structured_grid.GetPointData()\n",
    "    num_arrays = point_data.GetNumberOfArrays()\n",
    "\n",
    "    # Extract data arrays\n",
    "    data_arrays = {}\n",
    "    for i in range(num_arrays):\n",
    "        array = point_data.GetArray(i)\n",
    "        array_name = array.GetName()\n",
    "        data_arrays[array_name] = vtk_to_numpy(array)\n",
    "\n",
    "    return points, data_arrays\n",
    "\n",
    "def create_numpy_mesh(points, data_arrays):\n",
    "    num_points = points.GetNumberOfPoints()\n",
    "    mesh_points = np.empty((num_points, 3), dtype=np.float64)\n",
    "    \n",
    "    for i in range(num_points):\n",
    "        mesh_points[i] = points.GetPoint(i)\n",
    "\n",
    "    numpy_mesh = {\n",
    "        'points': mesh_points,\n",
    "        'data': data_arrays,\n",
    "    }\n",
    "    return numpy_mesh\n"
   ]
  },
  {
   "cell_type": "code",
   "execution_count": 3,
   "metadata": {},
   "outputs": [
    {
     "ename": "AttributeError",
     "evalue": "'NoneType' object has no attribute 'GetNumberOfPoints'",
     "output_type": "error",
     "traceback": [
      "\u001b[1;31m---------------------------------------------------------------------------\u001b[0m",
      "\u001b[1;31mAttributeError\u001b[0m                            Traceback (most recent call last)",
      "Cell \u001b[1;32mIn[3], line 2\u001b[0m\n\u001b[0;32m      1\u001b[0m file_path \u001b[39m=\u001b[39m \u001b[39m'\u001b[39m\u001b[39m./Datafile.vtk\u001b[39m\u001b[39m'\u001b[39m\n\u001b[1;32m----> 2\u001b[0m points, data_arrays \u001b[39m=\u001b[39m read_flow3d_output(file_path)\n\u001b[0;32m      3\u001b[0m numpy_mesh \u001b[39m=\u001b[39m create_numpy_mesh(points, data_arrays)\n\u001b[0;32m      5\u001b[0m \u001b[39mprint\u001b[39m(numpy_mesh)\n",
      "Cell \u001b[1;32mIn[2], line 8\u001b[0m, in \u001b[0;36mread_flow3d_output\u001b[1;34m(file_path)\u001b[0m\n\u001b[0;32m      6\u001b[0m structured_grid \u001b[39m=\u001b[39m reader\u001b[39m.\u001b[39mGetOutput()\n\u001b[0;32m      7\u001b[0m points \u001b[39m=\u001b[39m structured_grid\u001b[39m.\u001b[39mGetPoints()\n\u001b[1;32m----> 8\u001b[0m num_points \u001b[39m=\u001b[39m points\u001b[39m.\u001b[39;49mGetNumberOfPoints()\n\u001b[0;32m     10\u001b[0m point_data \u001b[39m=\u001b[39m structured_grid\u001b[39m.\u001b[39mGetPointData()\n\u001b[0;32m     11\u001b[0m num_arrays \u001b[39m=\u001b[39m point_data\u001b[39m.\u001b[39mGetNumberOfArrays()\n",
      "\u001b[1;31mAttributeError\u001b[0m: 'NoneType' object has no attribute 'GetNumberOfPoints'"
     ]
    },
    {
     "ename": "",
     "evalue": "",
     "output_type": "error",
     "traceback": [
      "\u001b[1;31mThe Kernel crashed while executing code in the the current cell or a previous cell. Please review the code in the cell(s) to identify a possible cause of the failure. Click <a href='https://aka.ms/vscodeJupyterKernelCrash'>here</a> for more info. View Jupyter <a href='command:jupyter.viewOutput'>log</a> for further details."
     ]
    }
   ],
   "source": [
    "\n",
    "file_path = './Datafile.vtk'\n",
    "points, data_arrays = read_flow3d_output(file_path)\n",
    "numpy_mesh = create_numpy_mesh(points, data_arrays)\n",
    "\n",
    "print(numpy_mesh)"
   ]
  },
  {
   "cell_type": "code",
   "execution_count": 3,
   "metadata": {},
   "outputs": [
    {
     "name": "stdout",
     "output_type": "stream",
     "text": [
      "[{}, {}, {}]\n"
     ]
    },
    {
     "ename": "",
     "evalue": "",
     "output_type": "error",
     "traceback": [
      "\u001b[1;31mThe Kernel crashed while executing code in the the current cell or a previous cell. Please review the code in the cell(s) to identify a possible cause of the failure. Click <a href='https://aka.ms/vscodeJupyterKernelCrash'>here</a> for more info. View Jupyter <a href='command:jupyter.viewOutput'>log</a> for further details."
     ]
    }
   ],
   "source": [
    "from vtk.util.numpy_support import vtk_to_numpy\n",
    "\n",
    "def read_vtm_file(file_path):\n",
    "    reader = vtk.vtkXMLMultiBlockDataReader()\n",
    "    reader.SetFileName(file_path)\n",
    "    reader.Update()\n",
    "    multiblock_data = reader.GetOutput()\n",
    "\n",
    "    blocks = []\n",
    "    num_blocks = multiblock_data.GetNumberOfBlocks()\n",
    "\n",
    "    for i in range(num_blocks):\n",
    "        block = multiblock_data.GetBlock(i)\n",
    "        blocks.append(block)\n",
    "\n",
    "    return blocks\n",
    "\n",
    "def extract_numpy_data(blocks):\n",
    "    numpy_data = []\n",
    "\n",
    "    for block in blocks:\n",
    "        point_data = block.GetPointData()\n",
    "        num_arrays = point_data.GetNumberOfArrays()\n",
    "\n",
    "        data_arrays = {}\n",
    "        for i in range(num_arrays):\n",
    "            array = point_data.GetArray(i)\n",
    "            array_name = array.GetName()\n",
    "            data_arrays[array_name] = vtk_to_numpy(array)\n",
    "\n",
    "        numpy_data.append(data_arrays)\n",
    "\n",
    "    return numpy_data\n",
    "\n",
    "file_path = './Datafile.vtm'\n",
    "blocks = read_vtm_file(file_path)\n",
    "numpy_data = extract_numpy_data(blocks)\n",
    "\n",
    "print(numpy_data)"
   ]
  },
  {
   "cell_type": "code",
   "execution_count": null,
   "metadata": {},
   "outputs": [],
   "source": []
  }
 ],
 "metadata": {
  "kernelspec": {
   "display_name": "Python 3",
   "language": "python",
   "name": "python3"
  },
  "language_info": {
   "codemirror_mode": {
    "name": "ipython",
    "version": 3
   },
   "file_extension": ".py",
   "mimetype": "text/x-python",
   "name": "python",
   "nbconvert_exporter": "python",
   "pygments_lexer": "ipython3",
   "version": "3.10.9"
  },
  "orig_nbformat": 4
 },
 "nbformat": 4,
 "nbformat_minor": 2
}
